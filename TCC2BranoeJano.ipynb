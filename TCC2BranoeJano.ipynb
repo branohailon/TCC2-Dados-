{
  "nbformat": 4,
  "nbformat_minor": 0,
  "metadata": {
    "colab": {
      "name": "TCC2BranoeJano.ipynb",
      "provenance": [],
      "collapsed_sections": []
    },
    "kernelspec": {
      "name": "python3",
      "display_name": "Python 3"
    }
  },
  "cells": [
    {
      "cell_type": "code",
      "metadata": {
        "id": "wqnunvVSicWc"
      },
      "source": [
        "#importando as bibliotecas\n",
        "import keras\n",
        "import numpy as np\n",
        "import pandas as pd"
      ],
      "execution_count": null,
      "outputs": []
    },
    {
      "cell_type": "code",
      "metadata": {
        "id": "lI5gkfOoikj7"
      },
      "source": [
        "from google.colab import drive\n",
        "drive.mount('/content/drive')\n",
        "#utilizamos os google drive para abrir os arquivos. \n",
        "df=pd.read_csv('drive/My Drive/TCC2-Contratos/Contratospublicos.csv', encoding = \"ISO-8859-1\")\n",
        "df.head()\n",
        "#df"
      ],
      "execution_count": null,
      "outputs": []
    },
    {
      "cell_type": "code",
      "metadata": {
        "id": "D8_9usaMFdw0"
      },
      "source": [
        "#Identificando dados nulos\n",
        "df.isnull().sum()"
      ],
      "execution_count": null,
      "outputs": []
    },
    {
      "cell_type": "code",
      "metadata": {
        "id": "wXfQdfPlIPuh"
      },
      "source": [
        "#removendo todos os dados nulos\n",
        "df.dropna(inplace= True)\n",
        "# Verificando se todos os dados Nulos foram removidos\n",
        "df.isnull().sum()"
      ],
      "execution_count": null,
      "outputs": []
    },
    {
      "cell_type": "code",
      "metadata": {
        "id": "iGfzz8_zMI_x"
      },
      "source": [
        "# Mostrando tabela com os dados removidos \n",
        "df.dropna()"
      ],
      "execution_count": null,
      "outputs": []
    },
    {
      "cell_type": "code",
      "metadata": {
        "id": "pL_DBjrDjAbZ"
      },
      "source": [
        "#separando Cidade  \n",
        "df_contra = df[df['Cidade'] == 'Anápolis' ]\n",
        "df_contra.head()\n",
        "#df_contra"
      ],
      "execution_count": null,
      "outputs": []
    },
    {
      "cell_type": "code",
      "metadata": {
        "id": "emEYm2f4Js8R"
      },
      "source": [
        "#separando Cidade\n",
        "df_contra = df[df['Cidade'] == 'Rio Verde' ]\n",
        "df_contra.head()\n",
        "#df_contra"
      ],
      "execution_count": null,
      "outputs": []
    },
    {
      "cell_type": "code",
      "metadata": {
        "id": "McTxygHDJ2Hr"
      },
      "source": [
        "#Verificando a quantidade de um produto no banco de dados \n",
        "df_contra = df[df['Produto'] == 'Tomate' ]\n",
        "df_contra.head()"
      ],
      "execution_count": null,
      "outputs": []
    }
  ]
}