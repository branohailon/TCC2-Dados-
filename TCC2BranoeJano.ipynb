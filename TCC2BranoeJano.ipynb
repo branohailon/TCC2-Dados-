{
  "nbformat": 4,
  "nbformat_minor": 0,
  "metadata": {
    "colab": {
      "name": "TCC2BranoeJano.ipynb",
      "provenance": [],
      "collapsed_sections": []
    },
    "kernelspec": {
      "name": "python3",
      "display_name": "Python 3"
    }
  },
  "cells": [
    {
      "cell_type": "code",
      "metadata": {
        "id": "wqnunvVSicWc"
      },
      "source": [
        "#importando as bibliotecas\n",
        "import keras\n",
        "import numpy as np\n",
        "import pandas as pd"
      ],
      "execution_count": null,
      "outputs": []
    },
    {
      "cell_type": "code",
      "metadata": {
        "id": "lI5gkfOoikj7",
        "colab": {
          "base_uri": "https://localhost:8080/",
          "height": 221
        },
        "outputId": "abef036c-ec8d-4e01-c35a-1e646a3822b5"
      },
      "source": [
        "from google.colab import drive\n",
        "drive.mount('/content/drive')\n",
        "#utilizamos os google drive para abrir os arquivos. \n",
        "df=pd.read_csv('drive/My Drive/TCC2-Contratos/Contratospublicos.csv', encoding = \"ISO-8859-1\")\n",
        "df.head()\n",
        "#df"
      ],
      "execution_count": null,
      "outputs": [
        {
          "output_type": "stream",
          "text": [
            "Mounted at /content/drive\n"
          ],
          "name": "stdout"
        },
        {
          "output_type": "execute_result",
          "data": {
            "text/html": [
              "<div>\n",
              "<style scoped>\n",
              "    .dataframe tbody tr th:only-of-type {\n",
              "        vertical-align: middle;\n",
              "    }\n",
              "\n",
              "    .dataframe tbody tr th {\n",
              "        vertical-align: top;\n",
              "    }\n",
              "\n",
              "    .dataframe thead th {\n",
              "        text-align: right;\n",
              "    }\n",
              "</style>\n",
              "<table border=\"1\" class=\"dataframe\">\n",
              "  <thead>\n",
              "    <tr style=\"text-align: right;\">\n",
              "      <th></th>\n",
              "      <th>Cidade</th>\n",
              "      <th>N_Contrato</th>\n",
              "      <th>Ano</th>\n",
              "      <th>Medida</th>\n",
              "      <th>Quantidade</th>\n",
              "      <th>Produto</th>\n",
              "      <th>Valor_Unitario</th>\n",
              "      <th>Valor_total</th>\n",
              "    </tr>\n",
              "  </thead>\n",
              "  <tbody>\n",
              "    <tr>\n",
              "      <th>0</th>\n",
              "      <td>Anápolis</td>\n",
              "      <td>41</td>\n",
              "      <td>2020</td>\n",
              "      <td>KG</td>\n",
              "      <td>125435.0</td>\n",
              "      <td>Banana Prata</td>\n",
              "      <td>R$: 1.49</td>\n",
              "      <td>R$: 186.302.15</td>\n",
              "    </tr>\n",
              "    <tr>\n",
              "      <th>1</th>\n",
              "      <td>Anápolis</td>\n",
              "      <td>41</td>\n",
              "      <td>2020</td>\n",
              "      <td>KG</td>\n",
              "      <td>41812.0</td>\n",
              "      <td>Banana Prata</td>\n",
              "      <td>R$: 1.49</td>\n",
              "      <td>R$: 61.852.88</td>\n",
              "    </tr>\n",
              "    <tr>\n",
              "      <th>2</th>\n",
              "      <td>Anápolis</td>\n",
              "      <td>41</td>\n",
              "      <td>2020</td>\n",
              "      <td>KG</td>\n",
              "      <td>152690.0</td>\n",
              "      <td>Laranja Pêra</td>\n",
              "      <td>R$: 1.49</td>\n",
              "      <td>R$: 226.763.10</td>\n",
              "    </tr>\n",
              "    <tr>\n",
              "      <th>3</th>\n",
              "      <td>Anápolis</td>\n",
              "      <td>41</td>\n",
              "      <td>2020</td>\n",
              "      <td>KG</td>\n",
              "      <td>50896.0</td>\n",
              "      <td>Laranja Pêra</td>\n",
              "      <td>R$: 1.49</td>\n",
              "      <td>R$: 75.090.04</td>\n",
              "    </tr>\n",
              "    <tr>\n",
              "      <th>4</th>\n",
              "      <td>Anápolis</td>\n",
              "      <td>41</td>\n",
              "      <td>2020</td>\n",
              "      <td>KG</td>\n",
              "      <td>114518.0</td>\n",
              "      <td>Maçã Nacional Vermelha</td>\n",
              "      <td>R$: 3.71</td>\n",
              "      <td>R$: 423.006.78</td>\n",
              "    </tr>\n",
              "  </tbody>\n",
              "</table>\n",
              "</div>"
            ],
            "text/plain": [
              "     Cidade  N_Contrato  ...  Valor_Unitario     Valor_total\n",
              "0  Anápolis          41  ...       R$: 1.49   R$: 186.302.15\n",
              "1  Anápolis          41  ...       R$: 1.49    R$: 61.852.88\n",
              "2  Anápolis          41  ...       R$: 1.49   R$: 226.763.10\n",
              "3  Anápolis          41  ...       R$: 1.49    R$: 75.090.04\n",
              "4  Anápolis          41  ...       R$: 3.71   R$: 423.006.78\n",
              "\n",
              "[5 rows x 8 columns]"
            ]
          },
          "metadata": {
            "tags": []
          },
          "execution_count": 2
        }
      ]
    },
    {
      "cell_type": "code",
      "metadata": {
        "id": "pL_DBjrDjAbZ"
      },
      "source": [
        "#separando Cidade  \n",
        "df_contra = df[df['Cidade'] == 'Anápolis' ]\n",
        "df_contra.head()\n",
        "#df_contra"
      ],
      "execution_count": null,
      "outputs": []
    },
    {
      "cell_type": "code",
      "metadata": {
        "id": "emEYm2f4Js8R"
      },
      "source": [
        "#separando Cidade\n",
        "df_contra = df[df['Cidade'] == 'Rio Verde' ]\n",
        "df_contra.head()\n",
        "#df_contra"
      ],
      "execution_count": null,
      "outputs": []
    },
    {
      "cell_type": "code",
      "metadata": {
        "id": "McTxygHDJ2Hr",
        "colab": {
          "base_uri": "https://localhost:8080/",
          "height": 111
        },
        "outputId": "f7c85e11-23eb-4c96-ed2c-1427ea80ac27"
      },
      "source": [
        "#separando Cidade\n",
        "df_contra = df[df['Produto'] == 'Tomate' ]\n",
        "df_contra.head()"
      ],
      "execution_count": null,
      "outputs": [
        {
          "output_type": "execute_result",
          "data": {
            "text/html": [
              "<div>\n",
              "<style scoped>\n",
              "    .dataframe tbody tr th:only-of-type {\n",
              "        vertical-align: middle;\n",
              "    }\n",
              "\n",
              "    .dataframe tbody tr th {\n",
              "        vertical-align: top;\n",
              "    }\n",
              "\n",
              "    .dataframe thead th {\n",
              "        text-align: right;\n",
              "    }\n",
              "</style>\n",
              "<table border=\"1\" class=\"dataframe\">\n",
              "  <thead>\n",
              "    <tr style=\"text-align: right;\">\n",
              "      <th></th>\n",
              "      <th>Cidade</th>\n",
              "      <th>N_Contrato</th>\n",
              "      <th>Ano</th>\n",
              "      <th>Medida</th>\n",
              "      <th>Quantidade</th>\n",
              "      <th>Produto</th>\n",
              "      <th>Valor_Unitario</th>\n",
              "      <th>Valor_total</th>\n",
              "    </tr>\n",
              "  </thead>\n",
              "  <tbody>\n",
              "    <tr>\n",
              "      <th>13</th>\n",
              "      <td>Anápolis</td>\n",
              "      <td>41</td>\n",
              "      <td>2020</td>\n",
              "      <td>KG</td>\n",
              "      <td>41812.0</td>\n",
              "      <td>Tomate</td>\n",
              "      <td>R$: 1.79</td>\n",
              "      <td>R$: 74.306.48</td>\n",
              "    </tr>\n",
              "    <tr>\n",
              "      <th>25</th>\n",
              "      <td>Anápolis</td>\n",
              "      <td>45</td>\n",
              "      <td>2020</td>\n",
              "      <td>KG</td>\n",
              "      <td>13937.0</td>\n",
              "      <td>Tomate</td>\n",
              "      <td>R$: 1.79</td>\n",
              "      <td>R$: 24.052.23</td>\n",
              "    </tr>\n",
              "  </tbody>\n",
              "</table>\n",
              "</div>"
            ],
            "text/plain": [
              "      Cidade  N_Contrato   Ano  ... Produto  Valor_Unitario    Valor_total\n",
              "13  Anápolis          41  2020  ...  Tomate       R$: 1.79   R$: 74.306.48\n",
              "25  Anápolis          45  2020  ...  Tomate        R$: 1.79  R$: 24.052.23\n",
              "\n",
              "[2 rows x 8 columns]"
            ]
          },
          "metadata": {
            "tags": []
          },
          "execution_count": 3
        }
      ]
    },
    {
      "cell_type": "code",
      "metadata": {
        "id": "15yiDzGY9Zec",
        "colab": {
          "base_uri": "https://localhost:8080/",
          "height": 111
        },
        "outputId": "4eb2e427-3f2d-492c-9afc-f9a2021dca46"
      },
      "source": [
        "#separando Cidade\n",
        "df_contra = df[df['Produto'] == 'Tomate' ]\n",
        "df_contra.head()"
      ],
      "execution_count": null,
      "outputs": [
        {
          "output_type": "execute_result",
          "data": {
            "text/html": [
              "<div>\n",
              "<style scoped>\n",
              "    .dataframe tbody tr th:only-of-type {\n",
              "        vertical-align: middle;\n",
              "    }\n",
              "\n",
              "    .dataframe tbody tr th {\n",
              "        vertical-align: top;\n",
              "    }\n",
              "\n",
              "    .dataframe thead th {\n",
              "        text-align: right;\n",
              "    }\n",
              "</style>\n",
              "<table border=\"1\" class=\"dataframe\">\n",
              "  <thead>\n",
              "    <tr style=\"text-align: right;\">\n",
              "      <th></th>\n",
              "      <th>Cidade</th>\n",
              "      <th>N_Contrato</th>\n",
              "      <th>Ano</th>\n",
              "      <th>Medida</th>\n",
              "      <th>Quantidade</th>\n",
              "      <th>Produto</th>\n",
              "      <th>Valor_Unitario</th>\n",
              "      <th>Valor_total</th>\n",
              "    </tr>\n",
              "  </thead>\n",
              "  <tbody>\n",
              "    <tr>\n",
              "      <th>13</th>\n",
              "      <td>Anápolis</td>\n",
              "      <td>41</td>\n",
              "      <td>2020</td>\n",
              "      <td>KG</td>\n",
              "      <td>41812.0</td>\n",
              "      <td>Tomate</td>\n",
              "      <td>R$: 1.79</td>\n",
              "      <td>R$: 74.306.48</td>\n",
              "    </tr>\n",
              "    <tr>\n",
              "      <th>25</th>\n",
              "      <td>Anápolis</td>\n",
              "      <td>45</td>\n",
              "      <td>2020</td>\n",
              "      <td>KG</td>\n",
              "      <td>13937.0</td>\n",
              "      <td>Tomate</td>\n",
              "      <td>R$: 1.79</td>\n",
              "      <td>R$: 24.052.23</td>\n",
              "    </tr>\n",
              "  </tbody>\n",
              "</table>\n",
              "</div>"
            ],
            "text/plain": [
              "      Cidade  N_Contrato   Ano  ... Produto  Valor_Unitario    Valor_total\n",
              "13  Anápolis          41  2020  ...  Tomate       R$: 1.79   R$: 74.306.48\n",
              "25  Anápolis          45  2020  ...  Tomate        R$: 1.79  R$: 24.052.23\n",
              "\n",
              "[2 rows x 8 columns]"
            ]
          },
          "metadata": {
            "tags": []
          },
          "execution_count": 5
        }
      ]
    },
    {
      "cell_type": "code",
      "metadata": {
        "id": "YyV9aZ3WtNHZ"
      },
      "source": [
        ""
      ],
      "execution_count": null,
      "outputs": []
    }
  ]
}